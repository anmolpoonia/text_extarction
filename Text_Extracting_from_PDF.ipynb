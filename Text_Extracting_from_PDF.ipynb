{
  "nbformat": 4,
  "nbformat_minor": 0,
  "metadata": {
    "colab": {
      "provenance": [],
      "authorship_tag": "ABX9TyNZ09C6BQM663QK0FUhgf4E",
      "include_colab_link": true
    },
    "kernelspec": {
      "name": "python3",
      "display_name": "Python 3"
    },
    "language_info": {
      "name": "python"
    }
  },
  "cells": [
    {
      "cell_type": "markdown",
      "metadata": {
        "id": "view-in-github",
        "colab_type": "text"
      },
      "source": [
        "<a href=\"https://colab.research.google.com/github/anmolpoonia/text_extarction/blob/main/Text_Extracting_from_PDF.ipynb\" target=\"_parent\"><img src=\"https://colab.research.google.com/assets/colab-badge.svg\" alt=\"Open In Colab\"/></a>"
      ]
    },
    {
      "cell_type": "markdown",
      "source": [
        "# **INTRODUCTION:**"
      ],
      "metadata": {
        "id": "ORI1KUZ1-M3A"
      }
    },
    {
      "cell_type": "markdown",
      "source": [
        "THIS PROJECT INVOLVES IN EXTRACTION OF USEFUL TEXT FROM A MEDICAL PRESCRIPTION:\n",
        "\n",
        "  IT WILL HAVE THSES FOLLOWIING STEPS:\n",
        "\n",
        "    1.Pdf2image library to convert pdf document to a list of images\n",
        "\n",
        "    2.OpenCV for basics image processing to make image more clearer\n",
        "\n",
        "    3.Pytesseract library to extract text from an image\n",
        "\n",
        "    4.Regular expression (a.k.a. regex) to extract useful information (or fields) from a text block"
      ],
      "metadata": {
        "id": "SP2GS7V5-I53"
      }
    }
  ]
}